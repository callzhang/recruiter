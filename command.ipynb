{
 "cells": [
  {
   "cell_type": "markdown",
   "id": "2c15b7ab",
   "metadata": {},
   "source": [
    "# Boss 直聘自动化 - 完整功能演示\n",
    "\n",
    "本 Notebook 提供 Boss 直聘自动化系统的完整功能演示，包括：\n",
    "\n",
    "## 🚀 **核心功能**\n",
    "- **智能简历处理**：多种捕获方法（WASM、Canvas拦截、截图）\n",
    "- **AI决策系统**：结合岗位要求与简历进行智能匹配\n",
    "- **批量处理**：支持多候选人并发处理\n",
    "- **OCR集成**：本地和云端OCR处理\n",
    "- **通知系统**：DingTalk集成\n",
    "\n",
    "## 📋 **API功能演示**\n",
    "- 服务状态检查与健康监控\n",
    "- 消息列表获取与聊天历史\n",
    "- 简历请求与在线简历查看\n",
    "- 多种简历捕获方法演示\n",
    "- 图像处理与OCR转换\n",
    "- 批量操作与并发处理\n",
    "\n",
    "## 🔧 **前置条件**\n",
    "- Boss服务已运行 (`python start_service.py`)\n",
    "- 可选环境变量：\n",
    "  - `OPENAI_API_KEY`：AI决策功能\n",
    "  - `DINGTALK_WEBHOOK`：通知功能\n",
    "  - `DEMO_CHAT_ID`：演示用聊天ID\n"
   ]
  },
  {
   "cell_type": "code",
   "execution_count": 16,
   "id": "344e7740",
   "metadata": {},
   "outputs": [
    {
     "name": "stdout",
     "output_type": "stream",
     "text": [
      "🚀 Boss 直聘自动化系统 - 完整功能演示\n",
      "============================================================\n",
      "🔍 检查服务状态...\n",
      "✅ 服务状态: running\n",
      "📊 浏览器状态: unknown\n",
      "⏰ 启动时间: unknown\n",
      "✅ 服务健康检查通过\n",
      "\n",
      "🔄 服务重启功能演示...\n"
     ]
    },
    {
     "data": {
      "text/plain": [
       "'46232784-0'"
      ]
     },
     "execution_count": 16,
     "metadata": {},
     "output_type": "execute_result"
    }
   ],
   "source": [
    "# 📦 导入依赖和初始化客户端\n",
    "import os\n",
    "import json\n",
    "import time\n",
    "from datetime import datetime\n",
    "from typing import Dict, List, Optional\n",
    "import matplotlib.pyplot as plt\n",
    "from PIL import Image\n",
    "import io\n",
    "import base64\n",
    "\n",
    "from boss_client import BossClient, ResumeResult\n",
    "\n",
    "# 配置\n",
    "BASE_URL = os.environ.get('BOSS_SERVICE_URL', 'http://127.0.0.1:5001')\n",
    "DEMO_CHAT_ID = os.environ.get('DEMO_CHAT_ID', '46232784-0')  # 演示用聊天ID\n",
    "\n",
    "print(\"🚀 Boss 直聘自动化系统 - 完整功能演示\")\n",
    "print(\"=\" * 60)\n",
    "\n",
    "# 初始化客户端\n",
    "client = BossClient(BASE_URL)\n",
    "\n",
    "# 检查服务状态\n",
    "print(\"🔍 检查服务状态...\")\n",
    "status = client.get_status()\n",
    "print(f\"✅ 服务状态: {status.get('status', 'unknown')}\")\n",
    "print(f\"📊 浏览器状态: {status.get('browser_status', 'unknown')}\")\n",
    "print(f\"⏰ 启动时间: {status.get('startup_time', 'unknown')}\")\n",
    "\n",
    "# 健康检查\n",
    "if client.is_service_healthy():\n",
    "    print(\"✅ 服务健康检查通过\")\n",
    "else:\n",
    "    print(\"❌ 服务健康检查失败\")\n",
    "    raise RuntimeError(\"服务不可用，请先启动服务 (python start_service.py)\")\n",
    "\n",
    "print(\"\\n🔄 服务重启功能演示...\")\n",
    "# 注意：实际环境中谨慎使用重启功能\n",
    "# restart_result = client.restart()\n",
    "# print(f\"重启结果: {restart_result}\")\n",
    "DEMO_CHAT_ID"
   ]
  },
  {
   "cell_type": "markdown",
   "id": "b0f72313",
   "metadata": {},
   "source": [
    "## 🔧 **基础服务操作**\n",
    "\n",
    "演示基本的服务管理功能\n"
   ]
  },
  {
   "cell_type": "code",
   "execution_count": 2,
   "id": "309abbe3",
   "metadata": {},
   "outputs": [
    {
     "name": "stdout",
     "output_type": "stream",
     "text": [
      "📋 获取通知列表...\n",
      "📊 通知数量: 5\n",
      "📝 最新通知:\n",
      "   - 事件管理器设置成功 (success)\n",
      "   - 已导航到聊天页面 (info)\n",
      "   - 持久化浏览器会话启动成功！ (success)\n",
      "✅ 基础服务操作演示完成\n"
     ]
    }
   ],
   "source": [
    "# 🔧 基础服务操作演示\n",
    "\n",
    "print(\"📋 获取通知列表...\")\n",
    "notifications = client.get_notifications(limit=5)\n",
    "print(f\"📊 通知数量: {len(notifications.get('notifications', []))}\")\n",
    "if notifications.get('notifications'):\n",
    "    print(\"📝 最新通知:\")\n",
    "    for notif in notifications['notifications'][-3:]:\n",
    "        print(f\"   - {notif.get('message', 'N/A')} ({notif.get('level', 'info')})\")\n",
    "\n",
    "print(\"✅ 基础服务操作演示完成\")\n"
   ]
  },
  {
   "cell_type": "markdown",
   "id": "f07783a7",
   "metadata": {},
   "source": [
    "## 💬 **消息管理功能**\n",
    "\n",
    "演示消息列表获取、聊天历史查看等功能\n"
   ]
  },
  {
   "cell_type": "code",
   "execution_count": 3,
   "id": "58f47cb0",
   "metadata": {},
   "outputs": [
    {
     "name": "stdout",
     "output_type": "stream",
     "text": [
      "📋 获取消息列表...\n",
      "✅ 消息获取成功: True\n",
      "📊 消息数量: 10\n",
      "\n",
      "📝 消息列表 (前5条):\n",
      "   1. 金久五 - 你撤回了一条消息...\n",
      "      Chat ID: 643094543-0 | 职位: 大模型算法工程师\n",
      "   2. 李庆旭 - 占用您百忙之中的一点时间，关注贵公司很久了，和我的职业规划很吻合，想和您聊聊...\n",
      "      Chat ID: 38187855-0 | 职位: 大模型算法工程师\n",
      "   3. 于先生 - 你好...\n",
      "      Chat ID: 689994060-0 | 职位: 大模型算法工程师\n",
      "   4. 黄耀辉 - 你好，我想应聘贵公司的大模型算法工程师，期盼回复，谢谢！...\n",
      "      Chat ID: 642482457-0 | 职位: 大模型算法工程师\n",
      "   5. 汤先生 - 你好，我想应聘贵公司的大模型算法工程师，期盼回复，谢谢！...\n",
      "      Chat ID: 40693939-0 | 职位: 大模型算法工程师\n",
      "\n",
      "🎯 选择演示候选人: 金久五 (Chat ID: 643094543-0)\n",
      "\n",
      "📜 获取聊天历史...\n",
      "📊 历史消息数量: 0\n",
      "✅ 消息管理功能演示完成\n"
     ]
    }
   ],
   "source": [
    "# 💬 消息管理功能演示\n",
    "\n",
    "print(\"📋 获取消息列表...\")\n",
    "messages_response = client.get_messages(limit=10)\n",
    "print(f\"✅ 消息获取成功: {messages_response.get('success')}\")\n",
    "print(f\"📊 消息数量: {len(messages_response.get('messages', []))}\")\n",
    "\n",
    "if messages_response.get('success') and messages_response.get('messages'):\n",
    "    messages = messages_response['messages']\n",
    "    print(f\"\\n📝 消息列表 (前5条):\")\n",
    "    for i, msg in enumerate(messages[:5]):\n",
    "        print(f\"   {i+1}. {msg.get('candidate', 'Unknown')} - {msg.get('message', 'N/A')[:50]}...\")\n",
    "        print(f\"      Chat ID: {msg.get('chat_id')} | 职位: {msg.get('job_title', 'N/A')}\")\n",
    "    \n",
    "    # 使用第一个消息进行后续演示\n",
    "    if messages:\n",
    "        demo_chat_id = messages[0]['chat_id']\n",
    "        demo_candidate = messages[0].get('candidate', 'Unknown')\n",
    "        print(f\"\\n🎯 选择演示候选人: {demo_candidate} (Chat ID: {demo_chat_id})\")\n",
    "        \n",
    "        # 获取聊天历史\n",
    "        print(f\"\\n📜 获取聊天历史...\")\n",
    "        history_response = client.get_chat_history(demo_chat_id)\n",
    "        if history_response.get('success'):\n",
    "            history = history_response.get('messages', [])\n",
    "            print(f\"📊 历史消息数量: {len(history)}\")\n",
    "            if history:\n",
    "                print(f\"📝 最新消息: {history[-1].get('content', 'N/A')[:100]}...\")\n",
    "        else:\n",
    "            print(f\"❌ 获取聊天历史失败: {history_response.get('error')}\")\n",
    "else:\n",
    "    print(\"❌ 没有找到消息，请确保有活跃的聊天\")\n",
    "    demo_chat_id = DEMO_CHAT_ID\n",
    "    print(f\"🎯 使用默认Chat ID: {demo_chat_id}\")\n",
    "\n",
    "print(\"✅ 消息管理功能演示完成\")\n"
   ]
  },
  {
   "cell_type": "markdown",
   "id": "8cf5463e",
   "metadata": {},
   "source": [
    "## 💬 **发送消息功能**\n",
    "\n",
    "演示发送文本消息到指定对话\n"
   ]
  },
  {
   "cell_type": "code",
   "execution_count": 4,
   "id": "128aea11",
   "metadata": {},
   "outputs": [
    {
     "name": "stdout",
     "output_type": "stream",
     "text": [
      "📤 发送消息到 Chat ID: 643094543-0\n"
     ]
    },
    {
     "ename": "NameError",
     "evalue": "name 'send_result' is not defined",
     "output_type": "error",
     "traceback": [
      "\u001b[0;31m---------------------------------------------------------------------------\u001b[0m",
      "\u001b[0;31mNameError\u001b[0m                                 Traceback (most recent call last)",
      "Cell \u001b[0;32mIn[4], line 9\u001b[0m\n\u001b[1;32m      6\u001b[0m test_message \u001b[38;5;241m=\u001b[39m \u001b[38;5;124m\"\u001b[39m\u001b[38;5;124m您好，我对您的简历很感兴趣，希望能进一步沟通。\u001b[39m\u001b[38;5;124m\"\u001b[39m\n\u001b[1;32m      7\u001b[0m \u001b[38;5;66;03m# send_result = client.send_message(demo_chat_id, test_message)\u001b[39;00m\n\u001b[0;32m----> 9\u001b[0m \u001b[38;5;28;01mif\u001b[39;00m \u001b[43msend_result\u001b[49m\u001b[38;5;241m.\u001b[39mget(\u001b[38;5;124m'\u001b[39m\u001b[38;5;124msuccess\u001b[39m\u001b[38;5;124m'\u001b[39m):\n\u001b[1;32m     10\u001b[0m     \u001b[38;5;28mprint\u001b[39m(\u001b[38;5;124mf\u001b[39m\u001b[38;5;124m\"\u001b[39m\u001b[38;5;124m✅ 消息发送成功: \u001b[39m\u001b[38;5;132;01m{\u001b[39;00msend_result\u001b[38;5;241m.\u001b[39mget(\u001b[38;5;124m'\u001b[39m\u001b[38;5;124mdetails\u001b[39m\u001b[38;5;124m'\u001b[39m)\u001b[38;5;132;01m}\u001b[39;00m\u001b[38;5;124m\"\u001b[39m)\n\u001b[1;32m     11\u001b[0m     \u001b[38;5;28mprint\u001b[39m(\u001b[38;5;124mf\u001b[39m\u001b[38;5;124m\"\u001b[39m\u001b[38;5;124m📝 发送内容: \u001b[39m\u001b[38;5;132;01m{\u001b[39;00mtest_message\u001b[38;5;132;01m}\u001b[39;00m\u001b[38;5;124m\"\u001b[39m)\n",
      "\u001b[0;31mNameError\u001b[0m: name 'send_result' is not defined"
     ]
    }
   ],
   "source": [
    "# 发送消息演示\n",
    "if demo_chat_id:\n",
    "    print(f\"📤 发送消息到 Chat ID: {demo_chat_id}\")\n",
    "    \n",
    "    # 发送测试消息\n",
    "    test_message = \"您好，我对您的简历很感兴趣，希望能进一步沟通。\"\n",
    "    # send_result = client.send_message(demo_chat_id, test_message)\n",
    "    \n",
    "    if send_result.get('success'):\n",
    "        print(f\"✅ 消息发送成功: {send_result.get('details')}\")\n",
    "        print(f\"📝 发送内容: {test_message}\")\n",
    "    else:\n",
    "        print(f\"❌ 消息发送失败: {send_result.get('error')}\")\n",
    "        \n",
    "    # 等待一下再获取聊天历史验证\n",
    "    time.sleep(2)\n",
    "    print(\"\\n📜 验证消息是否发送成功...\")\n",
    "    history_response = client.get_chat_history(demo_chat_id)\n",
    "    if history_response.get('success'):\n",
    "        history = history_response.get('messages', [])\n",
    "        print(f\"📊 更新后历史消息数量: {len(history)}\")\n",
    "        if history:\n",
    "            latest_message = history[-1]\n",
    "            print(f\"📝 最新消息: {latest_message.get('content', 'N/A')[:100]}...\")\n",
    "    else:\n",
    "        print(f\"❌ 获取聊天历史失败: {history_response.get('error')}\")\n",
    "else:\n",
    "    print(\"❌ 没有可用的Chat ID进行消息发送演示\")\n",
    "    \n",
    "print(\"✅ 发送消息功能演示完成\")\n"
   ]
  },
  {
   "cell_type": "code",
   "execution_count": 39,
   "id": "4f0cd9ed",
   "metadata": {},
   "outputs": [
    {
     "name": "stdout",
     "output_type": "stream",
     "text": [
      "📄 查看简历 Chat ID: 643094543-0\n",
      "✅ 简历查看器已打开: 简历查看器已打开\n",
      "个人简历\n",
      "\n",
      "基本信息\n",
      "\n",
      "姓名： 金久五出生年月： 1991-01\n",
      "\n",
      "性别： 男电话： 198-6372-0995\n",
      "\n",
      "邮箱： jwjin200@163.com微信：JJW910106\n",
      "\n",
      "我是一名统计学研究生，在机器学习、统计建模和优化算法拥有丰富和深厚的研究经验。在研究生学习期间，我在顶级期刊\n",
      "\n",
      "Annals of Statistics上发表了一篇论文。通过在美国顶级银行Wells Fargo的实习，我获得了在业界进行大数据建模的经验。另\n",
      "\n",
      "外，我对大模型有较深入的学习和了解。这些研究和实践经历让我拥有了极强的自学能力和解决问题的能力。与此同时，我拥有\n",
      "\n",
      "极强的英语水平，这对我跟踪技术前沿有着极大的促进作用。\n",
      "\n",
      "个人介绍\n",
      "\n",
      "职位：算法工程师、数据科学家\n",
      "\n",
      "求职岗位\n",
      "\n",
      "算法理论：大语言模型、强化学习、深度学习、传统机器学习、统计建模\n",
      "\n",
      "编程语言：Python、R、SQL\n",
      "\n",
      "大语言模型：微调、RAG、Agent、LangChain、LangGraph、LangSmith、PyTorch\n",
      "\n",
      "技能特长\n",
      "\n",
      "2024-01~2024-05佛罗里达州立大学统计学（硕士）\n",
      "\n",
      "2017-09~2023-12佛罗里达州立大学统计学 （博士生）\n",
      "\n",
      "2013-08~2016-08明尼苏达大学统计学（硕士）\n",
      "\n",
      "2009-08~2013-06大连理工大学数学（本科）\n",
      "\n",
      "发表论文：\n",
      "\n",
      "题目：Analysis of Generalized Bregman Surrogate Algorithms for Nonsmooth Nonconvex Statistical Learning\n",
      "\n",
      "期刊：Annals of Statistics\n",
      "\n",
      "获得奖项：Dr. Lawrence Thibodeau Fellowship in Statistical Consulting\n",
      "\n",
      "获得奖项：\n",
      "\n",
      "高教社杯全国大学生数学建模竞赛一等奖\n",
      "\n",
      "国际数学建模大赛二等奖\n",
      "\n",
      "国际数学建模大赛三等奖\n",
      "\n",
      "教育背景\n",
      "\n",
      "2022-06~2022-08富国银行 （Wells Fargo)量化研究员\n",
      "\n",
      "1，参与建立新的车贷风险模型，包括\n",
      "\n",
      "a) 变量选择、参数调控；\n",
      "\n",
      "b) 与业务部分协调、沟通。\n",
      "\n",
      "2. 对现有的车贷风险模型的表现进行监控。发现了由于疫情影响，此车贷风险模型的预测精度下降了40%。\n",
      "\n",
      "实习经验\n",
      "\n",
      "2c1e1e02138753071XJ60tq1EVtSy4y3UvqWWOGkl_7RPhFl3g~~\n",
      "\n",
      "2c1e1e02138753071XJ60tq1EVtSy4y3UvqWWOGkl_7RPhFl3g~~\n",
      "\n",
      "2c1e1e02138753071XJ60tq1EVtSy4y3UvqWWOGkl_7RPhFl3g~~\n",
      "\n",
      "2c1e1e02138753071XJ60tq1EVtSy4y3UvqWWOGkl_7RPhFl3g~~2021-08~2023-12用复合经验似然对机器学习方法进行非参数的鲁棒的统计推断\n",
      "\n",
      "2022-03用transformer进行文本分类\n",
      "\n",
      "2022-03用CNN对人脸图像进行表情分类\n",
      "\n",
      "2017-09~2021-08对非光滑非凸机器学习的 Bregman 代理算法分析框架\n",
      "\n",
      "2015-01~2016-08估计数据分布函数的s-凸性\n",
      "\n",
      "2012-06~2013-06支持向量机在图像处理中的应用\n",
      "\n",
      "方法：\n",
      "\n",
      "1.提出了复合经验似然方法来对机器学习方法进行非参数的复合统计推断；\n",
      "\n",
      "2.对于我们的复合经验似然方法引入了鲁棒性机制。此机制可以探测和矫正数据中的异常点；\n",
      "\n",
      "3.开发了一个新式算法来实现经验似然方法。经在大数据环境下检测，此新式算法的速度比当前算法快10倍，存储需求小1个量\n",
      "\n",
      "级。\n",
      "\n",
      "成果：写出了标题为 “Composite Empirical Likelihood for Nonparametric Robust Inference in Machine Learning”论\n",
      "\n",
      "文，并用Python实现了我的算法。\n",
      "\n",
      "方法：\n",
      "\n",
      "用RoBERTa transformer在yelp_polarity数据进行sentimental analysis：\n",
      "\n",
      "1.运用transfer learning，将基于RoBERTa的classifier在yelp_polarity的数据上进行微调。\n",
      "\n",
      "成果：\n",
      "\n",
      "在训练2个epoch之后，test dataset上的精度达到了98%。\n",
      "\n",
      "方法：\n",
      "\n",
      "在CelebA数据上训练下CNN来判断图像中的人脸是否在微笑：\n",
      "\n",
      "1.用data augmentation的方法来增加样本数目，并使训练出的CNN更robust；\n",
      "\n",
      "2.Convolutional Layer: a) 一共四层convolutional layer；b) feature map的\n"
     ]
    }
   ],
   "source": [
    "# 查看离线简历演示\n",
    "demo_chat_id = '643094543-0'\n",
    "print(f\"📄 查看简历 Chat ID: {demo_chat_id}\")\n",
    "    \n",
    "# 点击查看附件简历\n",
    "view_result = client.view_resume(demo_chat_id)\n",
    "\n",
    "if view_result.get('success'):\n",
    "    print(f\"✅ 简历查看器已打开: {view_result.get('details')}\")\n",
    "    print(view_result['content'][:2000])\n",
    "else:\n",
    "    print(f\"❌ 查看简历失败: {view_result.get('error')}\")\n",
    "    print(f\"📝 错误详情: {view_result}\")\n",
    "    \n"
   ]
  },
  {
   "cell_type": "code",
   "execution_count": 25,
   "id": "c493360f",
   "metadata": {},
   "outputs": [
    {
     "name": "stdout",
     "output_type": "stream",
     "text": [
      "\n",
      "🔍 在线简历演示(687609714-0)\n",
      "\n",
      "2️⃣ WASM模式捕获...\n",
      "✅ WASM模式结果: True\n",
      "✅ 简历处理功能演示完成\n",
      "张诚\n",
      " 今日活跃\n",
      "42岁  10年以上  本科  离职-随时到岗\n",
      "我是一名拥有二十年实战经验的研发技术总监，专注于人工智能、大模型和自然语言处理（NLP）方向，长期负责从需求分析到系统实施的全流程技术工作。我在深度学习、机器学习和大规模分布式系统方面积累了扎实的技术功底，能够在复杂业务场景下设计并落地高性能的智能系统，推动企业实现智能化与数字化转型。\n",
      "\n",
      "在大模型与NLP领域，我熟练掌握 BERT、\n"
     ]
    }
   ],
   "source": [
    "demo_chat_id = '687609714-0'\n",
    "print(f\"\\n🔍 在线简历演示({demo_chat_id})\")\n",
    "\n",
    "print(\"\\n2️⃣ WASM模式捕获...\")\n",
    "result_wasm = client.view_online_resume(demo_chat_id)\n",
    "print(f\"✅ WASM模式结果: {result_wasm.success}\")\n",
    "if not result_wasm.success:\n",
    "    print(f\"❌ WASM模式失败: {result_wasm.details}\")\n",
    "\n",
    "\n",
    "print(\"✅ 简历处理功能演示完成\")\n",
    "if isinstance(result_wasm.text, str):\n",
    "    print(result_wasm.text[:200])\n",
    "else:\n",
    "    print(result_wasm.text)\n"
   ]
  },
  {
   "cell_type": "markdown",
   "id": "c0815770",
   "metadata": {},
   "source": [
    "## 📄 **简历请求功能**\n",
    "\n",
    "演示简历请求、多种捕获方法、OCR处理等功能\n"
   ]
  },
  {
   "cell_type": "code",
   "execution_count": 27,
   "id": "dcd0ac4f",
   "metadata": {},
   "outputs": [
    {
     "name": "stdout",
     "output_type": "stream",
     "text": [
      "📋 简历请求功能演示...\n",
      "✅ 简历请求结果: True\n",
      "📝 请求消息: 简历请求已发送（按钮已禁用）\n"
     ]
    }
   ],
   "source": [
    "print(\"📋 简历请求功能演示...\")\n",
    "# 请求简历\n",
    "request_result = client.request_resume(demo_chat_id)\n",
    "print(f\"✅ 简历请求结果: {request_result.get('success')}\")\n",
    "if request_result.get('success'):\n",
    "    print(f\"📝 请求消息: {request_result.get('details', 'N/A')}\")\n",
    "else:\n",
    "    print(f\"❌ 请求失败: {request_result.get('error')}\")\n",
    "\n"
   ]
  },
  {
   "cell_type": "markdown",
   "id": "ce66456b",
   "metadata": {},
   "source": [
    "## 🚀 **便利方法演示**\n",
    "\n",
    "演示客户端提供的便利方法，简化常用操作\n"
   ]
  },
  {
   "cell_type": "markdown",
   "id": "fc0ffbd3",
   "metadata": {},
   "source": [
    "## 🤖 **AI决策系统**\n",
    "\n",
    "演示结合岗位要求和简历进行智能匹配决策\n"
   ]
  },
  {
   "cell_type": "code",
   "execution_count": 10,
   "id": "854e714e",
   "metadata": {},
   "outputs": [
    {
     "data": {
      "text/plain": [
       "{'roles': [{'id': 'default',\n",
       "   'position': '大模型算法工程师',\n",
       "   'description': '负责大语言模型/多模态模型的训练、微调与落地；\\n参与推理性能优化与工程化部署；\\n与业务协作将模型能力嵌入产品。\\n',\n",
       "   'target_profile': '- 计算机/数学/电子工程等相关专业，硕士及以上优先；\\n- 熟悉 Transformer/Lora/PEFT 等；\\n- 3-8 年算法或相关经验，具备端到端项目经验。\\n',\n",
       "   'filters': {'must_have': ['Python',\n",
       "     {'深度学习框架': ['PyTorch', 'TensorFlow']},\n",
       "     'LLM/LMM 相关经验'],\n",
       "    'nice_to_have': ['C++', '分布式训练(DeepSpeed/Megatron)', '向量数据库/检索增强(RAG)'],\n",
       "    'must_not': ['仅运维/测试背景', '与岗位无关的实习仅有']},\n",
       "   'keywords': {'positive': ['大模型',\n",
       "     'LLM',\n",
       "     'Transformer',\n",
       "     'Fine-tuning',\n",
       "     'LoRA',\n",
       "     'RLHF',\n",
       "     '知识蒸馏',\n",
       "     'RAG'],\n",
       "    'negative': ['爬虫', '外包', '纯NLP规则']},\n",
       "   'scoring': {'weights': {'experience': 0.35,\n",
       "     'skills_match': 0.35,\n",
       "     'projects': 0.2,\n",
       "     'education': 0.1},\n",
       "    'threshold': {'greet': 0.7, 'borderline': 0.6}},\n",
       "   'notes': '可根据岗位变体微调 filters/keywords/weights。\\n'}]}"
      ]
     },
     "execution_count": 10,
     "metadata": {},
     "output_type": "execute_result"
    }
   ],
   "source": [
    "# 读取岗位要求 YAML\n",
    "import yaml, json\n",
    "with open('jobs/criteria.yaml','r',encoding='utf-8') as f:\n",
    "    criteria = yaml.safe_load(f)\n",
    "criteria\n"
   ]
  },
  {
   "cell_type": "code",
   "execution_count": null,
   "id": "295ad703",
   "metadata": {},
   "outputs": [
    {
     "ename": "RuntimeError",
     "evalue": "缺少 OPENAI_API_KEY",
     "output_type": "error",
     "traceback": [
      "\u001b[0;31m---------------------------------------------------------------------------\u001b[0m",
      "\u001b[0;31mRuntimeError\u001b[0m                              Traceback (most recent call last)",
      "Cell \u001b[0;32mIn[8], line 6\u001b[0m\n\u001b[1;32m      4\u001b[0m api_key \u001b[38;5;241m=\u001b[39m os\u001b[38;5;241m.\u001b[39menviron\u001b[38;5;241m.\u001b[39mget(\u001b[38;5;124m'\u001b[39m\u001b[38;5;124mOPENAI_API_KEY\u001b[39m\u001b[38;5;124m'\u001b[39m)\n\u001b[1;32m      5\u001b[0m \u001b[38;5;28;01mif\u001b[39;00m \u001b[38;5;129;01mnot\u001b[39;00m api_key:\n\u001b[0;32m----> 6\u001b[0m     \u001b[38;5;28;01mraise\u001b[39;00m \u001b[38;5;167;01mRuntimeError\u001b[39;00m(\u001b[38;5;124m'\u001b[39m\u001b[38;5;124m缺少 OPENAI_API_KEY\u001b[39m\u001b[38;5;124m'\u001b[39m)\n\u001b[1;32m      8\u001b[0m headers \u001b[38;5;241m=\u001b[39m {\u001b[38;5;124m'\u001b[39m\u001b[38;5;124mAuthorization\u001b[39m\u001b[38;5;124m'\u001b[39m: \u001b[38;5;124mf\u001b[39m\u001b[38;5;124m'\u001b[39m\u001b[38;5;124mBearer \u001b[39m\u001b[38;5;132;01m{\u001b[39;00mapi_key\u001b[38;5;132;01m}\u001b[39;00m\u001b[38;5;124m'\u001b[39m, \u001b[38;5;124m'\u001b[39m\u001b[38;5;124mContent-Type\u001b[39m\u001b[38;5;124m'\u001b[39m: \u001b[38;5;124m'\u001b[39m\u001b[38;5;124mapplication/json\u001b[39m\u001b[38;5;124m'\u001b[39m}\n\u001b[1;32m      9\u001b[0m prompt \u001b[38;5;241m=\u001b[39m {\n\u001b[1;32m     10\u001b[0m     \u001b[38;5;124m'\u001b[39m\u001b[38;5;124mrole\u001b[39m\u001b[38;5;124m'\u001b[39m: \u001b[38;5;124m'\u001b[39m\u001b[38;5;124muser\u001b[39m\u001b[38;5;124m'\u001b[39m,\n\u001b[1;32m     11\u001b[0m     \u001b[38;5;124m'\u001b[39m\u001b[38;5;124mcontent\u001b[39m\u001b[38;5;124m'\u001b[39m: (\n\u001b[0;32m   (...)\u001b[0m\n\u001b[1;32m     15\u001b[0m     )\n\u001b[1;32m     16\u001b[0m }\n",
      "\u001b[0;31mRuntimeError\u001b[0m: 缺少 OPENAI_API_KEY"
     ]
    }
   ],
   "source": [
    "# 组合 YAML + 简历，调用 OpenAI 进行匹配决策\n",
    "role = criteria['roles'][0]\n",
    "import requests, json\n",
    "api_key = os.environ.get('OPENAI_API_KEY')\n",
    "if not api_key:\n",
    "    raise RuntimeError('缺少 OPENAI_API_KEY')\n",
    "\n",
    "headers = {'Authorization': f'Bearer {api_key}', 'Content-Type': 'application/json'}\n",
    "prompt = {\n",
    "    'role': 'user',\n",
    "    'content': (\n",
    "        \"你是资深HR。根据以下职位要求(YAML)与候选人简历(Markdown)进行匹配评分，输出JSON：\"\n",
    "        \"{score: 0-1, decision: 'greet'|'skip'|'borderline', reasons: [..], highlights: [..], risks: [..]}。\"\n",
    "        \"职位YAML:\\n\" + yaml.safe_dump(role, allow_unicode=True) + \"\\n简历Markdown:\\n\" + md_text\n",
    "    )\n",
    "}\n",
    "payload = {\n",
    "    'model': os.environ.get('OPENAI_TEXT_MODEL', 'gpt-4o-mini'),\n",
    "    'messages': [prompt],\n",
    "    'response_format': {\"type\": \"json_object\"}\n",
    "}\n",
    "resp = requests.post('https://api.openai.com/v1/chat/completions', headers=headers, json=payload, timeout=60)\n",
    "resp.raise_for_status()\n",
    "content = resp.json()['choices'][0]['message']['content']\n",
    "decision = json.loads(content)\n",
    "decision\n"
   ]
  },
  {
   "cell_type": "code",
   "execution_count": null,
   "id": "44f00f16",
   "metadata": {},
   "outputs": [],
   "source": [
    "# 可选：若决策为 greet，发送钉钉通知\n",
    "if isinstance(decision, dict) and decision.get('decision') == 'greet':\n",
    "    hook = os.environ.get('DINGTALK_WEBHOOK')\n",
    "    if hook:\n",
    "        msg = {\n",
    "            \"msgtype\": \"text\",\n",
    "            \"text\": {\"content\": f\"建议打招呼: chat_id={CHAT_ID}\\nscore={decision.get('score')}\\nreasons={decision.get('reasons')}\"}\n",
    "        }\n",
    "        try:\n",
    "            requests.post(hook, json=msg, timeout=10)\n",
    "            print('DingTalk 已通知')\n",
    "        except Exception as e:\n",
    "            print('DingTalk 通知失败:', e)\n",
    "else:\n",
    "    print('决策不是 greet，跳过通知')\n"
   ]
  },
  {
   "cell_type": "markdown",
   "id": "5f089824",
   "metadata": {},
   "source": [
    "# 推荐牛人动作"
   ]
  },
  {
   "cell_type": "code",
   "execution_count": 16,
   "id": "8788f26f",
   "metadata": {},
   "outputs": [
    {
     "name": "stdout",
     "output_type": "stream",
     "text": [
      "🔍 获取推荐候选人列表...\n",
      "❌ 获取推荐候选人失败: {'success': False, 'error': 'HTTP error: 500'}\n"
     ]
    }
   ],
   "source": [
    "# 👥 查看推荐候选人\n",
    "print(\"🔍 获取推荐候选人列表...\")\n",
    "\n",
    "# 调用推荐候选人接口\n",
    "result = client.get_recommended_candidates(limit=10)\n",
    "\n",
    "if result.get('success'):\n",
    "    candidates = result.get('candidates', [])\n",
    "    print(f\"✅ 成功获取 {len(candidates)} 个推荐候选人\")\n",
    "    print()\n",
    "    \n",
    "    # 显示候选人信息\n",
    "    for i, candidate in enumerate(candidates, 1):\n",
    "        print(f\"📋 候选人 {i}:\")\n",
    "        print(f\"   👤 姓名: {candidate.get('name', 'N/A')}\")\n",
    "        print(f\"   💼 职位: {candidate.get('job_title', 'N/A')}\")\n",
    "        print(f\"   🏢 公司: {candidate.get('company', 'N/A')}\")\n",
    "        print(f\"   💰 薪资: {candidate.get('salary', 'N/A')}\")\n",
    "        print(f\"   📍 地点: {candidate.get('location', 'N/A')}\")\n",
    "        print(f\"   ⏳ 经验: {candidate.get('experience', 'N/A')}\")\n",
    "        print(f\"   🎓 学历: {candidate.get('education', 'N/A')}\")\n",
    "        \n",
    "        if candidate.get('tags'):\n",
    "            print(f\"   🏷️  标签: {', '.join(candidate['tags'])}\")\n",
    "        \n",
    "        if candidate.get('link'):\n",
    "            print(f\"   🔗 链接: {candidate['link']}\")\n",
    "        \n",
    "        print()\n",
    "else:\n",
    "    print(f\"❌ 获取推荐候选人失败: {result}\")\n",
    "    "
   ]
  },
  {
   "cell_type": "markdown",
   "id": "838e9657",
   "metadata": {},
   "source": [
    "## 🗑️ **丢弃候选人功能**\n",
    "\n",
    "演示丢弃候选人的功能 - 点击\"不合适\"按钮\n"
   ]
  },
  {
   "cell_type": "code",
   "execution_count": null,
   "id": "3bce19e4",
   "metadata": {},
   "outputs": [],
   "source": [
    "# 丢弃候选人演示\n",
    "demo_chat_id = '643094543-0'  # 使用一个测试用的Chat ID\n",
    "print(f\"🗑️ 丢弃候选人 Chat ID: {demo_chat_id}\")\n",
    "\n",
    "# 丢弃候选人\n",
    "discard_result = client.discard_candidate(demo_chat_id)\n",
    "\n",
    "if discard_result.get('success'):\n",
    "    print(f\"✅ 候选人已丢弃: {discard_result.get('details')}\")\n",
    "    print(f\"📝 操作时间: {discard_result.get('timestamp')}\")\n",
    "else:\n",
    "    print(f\"❌ 丢弃候选人失败: {discard_result.get('error')}\")\n",
    "    print(f\"📝 错误详情: {discard_result.get('details')}\")\n",
    "\n",
    "print(\"✅ 丢弃候选人功能演示完成\")\n"
   ]
  }
 ],
 "metadata": {
  "kernelspec": {
   "display_name": "base",
   "language": "python",
   "name": "python3"
  },
  "language_info": {
   "codemirror_mode": {
    "name": "ipython",
    "version": 3
   },
   "file_extension": ".py",
   "mimetype": "text/x-python",
   "name": "python",
   "nbconvert_exporter": "python",
   "pygments_lexer": "ipython3",
   "version": "3.10.14"
  }
 },
 "nbformat": 4,
 "nbformat_minor": 5
}
